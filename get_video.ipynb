{
 "cells": [
  {
   "cell_type": "markdown",
   "metadata": {},
   "source": [
    "[GitHub: NVIDIA-AI-IOT/deepstream_python_apps](https://github.com/NVIDIA-AI-IOT/deepstream_python_apps)"
   ]
  },
  {
   "attachments": {},
   "cell_type": "markdown",
   "metadata": {},
   "source": [
    "# Connect to IMX708 CSI camera\n",
    "\n",
    "[GitHub: JetsonHacksNano/CSI-Camera](https://github.com/JetsonHacksNano/CSI-Camera)  \n",
    "\n",
    "How To Check Camera Connection  \n",
    "```ls /dev/video*```  \n",
    "\n",
    "\n",
    "Install Raspberry Pi Camera Module v3 IMX708 Driver.  \n",
    "[RidgeRun Developer Wiki](https://developer.ridgerun.com/wiki/index.php/Raspberry_Pi_Camera_Module_3_IMX708_Linux_driver_for_Jetson)\n",
    "```\n",
    "View the Pixel format\n",
    "```\n",
    "v4l2-ctl --list-formats-ext  \n",
    "v4l2-ctl --list-devices\n",
    "v4l2-ctl --device /dev/video0 --list-formats-ext\n",
    "v4l2-ctl --device /dev/video0 --list-ctrls\n",
    "```\n",
    "Preview without converting\n",
    "```\n",
    "SENSOR_ID=0 \n",
    "FRAMERATE=14 \n",
    "gst-launch-1.0 nvarguscamerasrc sensor-id=$SENSOR_ID ! \"video/x-raw(memory:NVMM),width=4608,height=2592,framerate=$FRAMERATE/1\" ! queue ! nvegltransform ! nveglglessink\n",
    "```\n",
    "Preview with converting\n",
    "```\n",
    "sensor_id=0\n",
    "capture_width=4608\n",
    "capture_height=2592\n",
    "display_width=960\n",
    "display_height=540\n",
    "framerate=14\n",
    "flip_method=0\n",
    "gst-launch-1.0 nvarguscamerasrc sensor-id=$sensor_id ! \"video/x-raw(memory:NVMM), width=$capture_width, height=$capture_height, framerate=$framerate/1\" ! nvvidconv flip-method=$flip_method ! \"video/x-raw, width=$display_width, height=$display_height, format=(string)BGRx\" ! queue ! videoconvert ! \"video/x-raw, format=(string)BGR\" ! nveglglessink\n",
    "```"
   ]
  },
  {
   "cell_type": "code",
   "execution_count": 8,
   "metadata": {},
   "outputs": [
    {
     "name": "stdout",
     "output_type": "stream",
     "text": [
      "gst-launch-1.0 nvarguscamerasrc sensor-id=0 ! \"video/x-raw(memory:NVMM), width=4608, height=2592, framerate=14/1\" ! nvvidconv flip-method=0 ! \"video/x-raw, width=960, height=540,, format=(string)BGRx\" ! queue ! videoconvert ! \"video/x-raw, format=(string)BGR\" ! nveglglessink\n",
      "Error: Unable to open camera\n"
     ]
    }
   ],
   "source": [
    "# MIT License\n",
    "# Copyright (c) 2019-2022 JetsonHacks\n",
    "\n",
    "# Using a CSI camera (such as the Raspberry Pi Version 2) connected to a\n",
    "# NVIDIA Jetson Nano Developer Kit using OpenCV\n",
    "# Drivers for the camera and OpenCV are included in the base image\n",
    "\n",
    "import cv2\n",
    "\n",
    "\"\"\" \n",
    "gstreamer_pipeline returns a GStreamer pipeline for capturing from the CSI camera\n",
    "Flip the image by setting the flip_method (most common values: 0 and 2)\n",
    "display_width and display_height determine the size of each camera pane in the window on the screen\n",
    "Default 1920x1080 displayd in a 1/4 size window\n",
    "\"\"\"\n",
    "\n",
    "def gstreamer_pipeline(\n",
    "    sensor_id=0,\n",
    "    capture_width=4608,\n",
    "    capture_height=2592,\n",
    "    display_width=960,\n",
    "    display_height=540,\n",
    "    framerate=14,\n",
    "    flip_method=0,\n",
    "):\n",
    "    return (\n",
    "        'nvarguscamerasrc sensor-id=%d ! '\n",
    "        '\"video/x-raw(memory:NVMM), width=(int)%d, height=(int)%d, framerate=(fraction)%d/1\" ! '\n",
    "        'nvvidconv flip-method=%d ! '\n",
    "        '\"video/x-raw, width=(int)%d, height=(int)%d,, format=(string)BGRx\" ! '\n",
    "        'queue ! videoconvert ! \"video/x-raw, format=(string)BGR\" ! nveglglessink'\n",
    "        % (\n",
    "            sensor_id,\n",
    "            capture_width,\n",
    "            capture_height,\n",
    "            framerate,\n",
    "            flip_method,\n",
    "            display_width,\n",
    "            display_height,\n",
    "        )\n",
    "    )\n",
    "\n",
    "\n",
    "def show_camera():\n",
    "    window_title = \"CSI Camera\"\n",
    "\n",
    "    # To flip the image, modify the flip_method parameter (0 and 2 are the most common)\n",
    "    print(gstreamer_pipeline(flip_method=0))\n",
    "    video_capture = cv2.VideoCapture(gstreamer_pipeline(flip_method=0), cv2.CAP_GSTREAMER)\n",
    "    if video_capture.isOpened():\n",
    "        try:\n",
    "            window_handle = cv2.namedWindow(window_title, cv2.WINDOW_AUTOSIZE)\n",
    "            while True:\n",
    "                ret_val, frame = video_capture.read()\n",
    "                # Check to see if the user closed the window\n",
    "                # Under GTK+ (Jetson Default), WND_PROP_VISIBLE does not work correctly. Under Qt it does\n",
    "                # GTK - Substitute WND_PROP_AUTOSIZE to detect if window has been closed by user\n",
    "                if cv2.getWindowProperty(window_title, cv2.WND_PROP_AUTOSIZE) >= 0:\n",
    "                    cv2.imshow(window_title, frame)\n",
    "                else:\n",
    "                    break \n",
    "                keyCode = cv2.waitKey(10) & 0xFF\n",
    "                # Stop the program on the ESC key or 'q'\n",
    "                if keyCode == 27 or keyCode == ord('q'):\n",
    "                    break\n",
    "        finally:\n",
    "            video_capture.release()\n",
    "            cv2.destroyAllWindows()\n",
    "    else:\n",
    "        print(\"Error: Unable to open camera\")\n",
    "\n",
    "\n",
    "if __name__ == \"__main__\":\n",
    "    show_camera()"
   ]
  },
  {
   "attachments": {},
   "cell_type": "markdown",
   "metadata": {},
   "source": [
    "# Connect to USB camera\n",
    "https://qiita.com/akira-sasaki/items/7465f6cfd6ab5977f1c9  \n",
    "check connected usb camera list\n",
    "```\n",
    "sudo apt update\n",
    "sudo apt upgrade\n",
    "sudo apt install v4l-utils\n",
    "v4l2-ctl --list-device \n",
    "```\n",
    "show camera parameters\n",
    "```\n",
    "v4l2-ctl -d /dev/video0 --list-formats-ext\n",
    "```\n",
    "show image as YUYV 640x480 30fps\n",
    "```\n",
    "gst-launch-1.0 v4l2src device=\"/dev/video2\" ! \\\n",
    "'video/x-raw, width=640, height=480, framerate=30/1' ! \\\n",
    "videoconvert ! \\\n",
    "nv3dsink\n",
    "```"
   ]
  },
  {
   "attachments": {},
   "cell_type": "markdown",
   "metadata": {},
   "source": [
    "# Publish USB camera video streaming\n",
    "Use MediaMTX and FFmpeg  \n",
    "https://github.com/bluenviron/mediamtx"
   ]
  }
 ],
 "metadata": {
  "kernelspec": {
   "display_name": "tracking",
   "language": "python",
   "name": "python3"
  },
  "language_info": {
   "codemirror_mode": {
    "name": "ipython",
    "version": 3
   },
   "file_extension": ".py",
   "mimetype": "text/x-python",
   "name": "python",
   "nbconvert_exporter": "python",
   "pygments_lexer": "ipython3",
   "version": "3.10.12"
  },
  "vscode": {
   "interpreter": {
    "hash": "2c52945e00f4ebf230b9253606b14a0e819bebd501dc51879fbad6b05dde25e9"
   }
  }
 },
 "nbformat": 4,
 "nbformat_minor": 2
}
